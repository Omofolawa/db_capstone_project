{
 "cells": [
  {
   "cell_type": "code",
   "execution_count": 2,
   "id": "377bbad2-c58b-415f-b952-85cf331bc57b",
   "metadata": {},
   "outputs": [
    {
     "name": "stdout",
     "output_type": "stream",
     "text": [
      "Connected to MySQL Server version 8.0.34\n",
      "Connected to database: littlelemondb\n",
      "Tables in the database:\n",
      "bookings\n",
      "customers\n",
      "employees\n",
      "menu\n",
      "menuitems\n",
      "orderdelivery\n",
      "orders\n",
      "ordersview\n"
     ]
    }
   ],
   "source": [
    "import mysql.connector\n",
    "from mysql.connector import Error\n",
    "from mysql.connector.pooling import MySQLConnectionPool\n",
    "\n",
    "# Declaring database parameters using python Dictionary\n",
    "db_config = {\n",
    "    'user': 'root',\n",
    "    'password': 'Glycolysis@21',\n",
    "    'database': 'littlelemondb',\n",
    "    'pool_name': 'pool_a',\n",
    "    'pool_size': 5\n",
    "}\n",
    "\n",
    "# Create a connection pool\n",
    "pool = MySQLConnectionPool(**db_config)\n",
    "\n",
    "try:\n",
    "    # Get a connection from the pool\n",
    "    connection = pool.get_connection()\n",
    "\n",
    "    if connection.is_connected():\n",
    "        db_info = connection.get_server_info()\n",
    "        print(f'Connected to MySQL Server version {db_info}')\n",
    "        cursor = connection.cursor()\n",
    "\n",
    "        # Print the name of the connected database\n",
    "        print(f'Connected to database: {connection.database}')\n",
    "\n",
    "\n",
    "        #TASK 1\n",
    "        # Execute a query to get table names\n",
    "        cursor.execute('SHOW TABLES')\n",
    "\n",
    "        # Fetch results\n",
    "        rows = cursor.fetchall()\n",
    "        print('Tables in the database:')\n",
    "        for row in rows:\n",
    "            print(row[0])\n",
    "\n",
    "\n",
    "except Error as e:\n",
    "    print(f'Error connecting to MySQL: {e}')"
   ]
  },
  {
   "cell_type": "code",
   "execution_count": 3,
   "id": "bd518f71-94d0-499a-9e8f-d230c7611a20",
   "metadata": {},
   "outputs": [
    {
     "name": "stdout",
     "output_type": "stream",
     "text": [
      "Results:\n",
      "('Alice Johnson', '9876543210')\n",
      "('Elena Salvai', '4444444444')\n",
      "Join Operation successful!\n",
      "Cursor closed.\n",
      "Connection closed.\n"
     ]
    }
   ],
   "source": [
    "#TASK 2\n",
    "try:\n",
    "    # Execute a query to get the required details\n",
    "        query = (\"\"\"SELECT CONCAT(c.FirstName, ' ', c.LastName) AS FullName, c.PhoneNumber       \n",
    "                    FROM Orders o\n",
    "                    JOIN Customers c ON o.CustomerID = c.CustomerID             \n",
    "                    WHERE o.TotalCost > 60 \"\"\")        \n",
    "        cursor.execute(query)         \n",
    "        # Fetching results        \n",
    "        rows = cursor.fetchall()         \n",
    "        print('Results:')         \n",
    "        #looping the results\n",
    "        for row in rows:             \n",
    "            print(row)\n",
    "        print(\"Join Operation successful!\")\n",
    "\n",
    "except Error as e:\n",
    "    print(f'Error connecting to MySQL: {e}')\n",
    "\n",
    "finally:\n",
    "    # Close the cursor\n",
    "    if 'cursor' in locals():\n",
    "        cursor.close()\n",
    "        print('Cursor closed.')\n",
    "\n",
    "    # Close the connection\n",
    "    if 'connection' in locals():\n",
    "        connection.close()\n",
    "        print('Connection closed.')"
   ]
  }
 ],
 "metadata": {
  "kernelspec": {
   "display_name": "Python 3 (ipykernel)",
   "language": "python",
   "name": "python3"
  },
  "language_info": {
   "codemirror_mode": {
    "name": "ipython",
    "version": 3
   },
   "file_extension": ".py",
   "mimetype": "text/x-python",
   "name": "python",
   "nbconvert_exporter": "python",
   "pygments_lexer": "ipython3",
   "version": "3.11.8"
  }
 },
 "nbformat": 4,
 "nbformat_minor": 5
}
